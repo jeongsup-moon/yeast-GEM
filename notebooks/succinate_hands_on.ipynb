{
 "cells": [
  {
   "cell_type": "markdown",
   "metadata": {},
   "source": [
    "# Succinate production hands-on session\n",
    "\n",
    "This notebook demonstrates how to load the yeast9 genome-scale metabolic model,\n",
    "configure the extracellular medium, and explore environmental conditions that\n",
    "maximize succinate secretion using flux balance analysis (FBA).\n"
   ]
  },
  {
   "cell_type": "markdown",
   "metadata": {},
   "source": [
    "## 1. Environment preparation\n",
    "\n",
    "The Python utilities shipped with the repository expect a `.env` file in the\n",
    "project root and a working COBRApy installation. Create and activate a virtual\n",
    "environment, install the dependencies, and ensure that the working directory of\n",
    "this notebook is the repository root.\n",
    "\n",
    "```bash\n",
    "python -m venv .venv\n",
    "source .venv/bin/activate\n",
    "pip install cobra python-dotenv pandas\n",
    "touch .env\n",
    "```\n",
    "\n",
    "Once the prerequisites are installed, the remaining cells can be executed in\n",
    "sequence.\n"
   ]
  },
  {
   "cell_type": "code",
   "execution_count": null,
   "metadata": {},
   "outputs": [],
   "source": [
    "from pathlib import Path\n",
    "\n",
    "# Ensure that the repository root contains the marker file required by code.io\n",
    "Path(\".env\").touch()\n",
    "print('`.env` file ready for use.')\n"
   ]
  },
  {
   "cell_type": "code",
   "execution_count": null,
   "metadata": {},
   "outputs": [],
   "source": [
    "import itertools\n",
    "from typing import Dict, Iterable\n",
    "\n",
    "import cobra\n",
    "import pandas as pd\n",
    "from cobra.flux_analysis import pfba\n",
    "\n",
    "from code.io import read_yeast_model\n"
   ]
  },
  {
   "cell_type": "markdown",
   "metadata": {},
   "source": [
    "## 2. Load the yeast9 model\n",
    "\n",
    "The helper `read_yeast_model` locates the SBML file shipped with the repository\n",
    "and returns a COBRApy `Model` instance.\n"
   ]
  },
  {
   "cell_type": "code",
   "execution_count": null,
   "metadata": {},
   "outputs": [],
   "source": [
    "model = read_yeast_model()\n",
    "\n",
    "print(f'Reactions: {len(model.reactions)}')\n",
    "print(f'Metabolites: {len(model.metabolites)}')\n",
    "print(f'Genes: {len(model.genes)}')\n",
    "print(f'Default objective: {model.objective.expression}')\n"
   ]
  },
  {
   "cell_type": "markdown",
   "metadata": {},
   "source": [
    "## 3. Configure a base medium\n",
    "\n",
    "We reproduce the Kennedy synthetic complete medium used in the MATLAB utilities\n",
    "(`complete_Y7`). All exchange reactions are first reset to prohibit uptake, then\n",
    "selected nutrients are reopened with specific uptake bounds (negative flux\n",
    "corresponds to import).\n"
   ]
  },
  {
   "cell_type": "code",
   "execution_count": null,
   "metadata": {},
   "outputs": [],
   "source": [
    "# Exchange reactions that receive a constrained uptake of -0.5 mmol gDW^-1 h^-1\n",
    "CONSTRAINED_UPTAKE: Iterable[str] = (\n",
    "    'r_1604', 'r_1639', 'r_1873', 'r_1879', 'r_1880', 'r_1881', 'r_1671',\n",
    "    'r_1883', 'r_1757', 'r_1891', 'r_1889', 'r_1810', 'r_1993', 'r_1893',\n",
    "    'r_1897', 'r_1947', 'r_1899', 'r_1900', 'r_1902', 'r_1967', 'r_1903',\n",
    "    'r_1548', 'r_1904', 'r_2028', 'r_2038', 'r_1906', 'r_2067', 'r_1911',\n",
    "    'r_1912', 'r_1913', 'r_2090', 'r_1914', 'r_2106',\n",
    ")\n",
    "\n",
    "# Exchange reactions that remain unconstrained for uptake (-1000 lower bound)\n",
    "UNCONSTRAINED_UPTAKE: Iterable[str] = (\n",
    "    'r_1672',  # ammonium\n",
    "    'r_1654',  # potassium\n",
    "    'r_1992',  # oxygen\n",
    "    'r_2005',  # phosphate\n",
    "    'r_2060',  # sulfate\n",
    "    'r_1861',  # iron\n",
    "    'r_1832',  # proton\n",
    "    'r_2100',  # water\n",
    "    'r_4593',  # chloride\n",
    "    'r_4595',  # manganese\n",
    "    'r_4596',  # zinc\n",
    "    'r_4597',  # magnesium\n",
    "    'r_2049',  # sodium\n",
    "    'r_4594',  # copper\n",
    "    'r_4600',  # calcium\n",
    "    'r_2020',  # sulfate/glutathione coupled import\n",
    ")\n",
    "\n",
    "GLUCOSE_EXCHANGE_ID = 'r_1714'\n",
    "SUCCINATE_EXCHANGE_ID = 'r_2056'\n",
    "BIOMASS_REACTION_ID = 'r_2111'\n",
    "\n",
    "def apply_kennedy_medium(model: cobra.Model, glucose_limit: float = -20.0) -> cobra.Model:\n",
    "    \"\"\"Reset exchange bounds and apply the Kennedy synthetic complete medium.\"\"\"\n",
    "    for rxn in model.exchanges:\n",
    "        rxn.lower_bound = 0.0\n",
    "        rxn.upper_bound = 1000.0\n",
    "    for rxn_id in CONSTRAINED_UPTAKE:\n",
    "        model.reactions.get_by_id(rxn_id).lower_bound = -0.5\n",
    "    model.reactions.get_by_id(GLUCOSE_EXCHANGE_ID).lower_bound = glucose_limit\n",
    "    for rxn_id in UNCONSTRAINED_UPTAKE:\n",
    "        model.reactions.get_by_id(rxn_id).lower_bound = -1000.0\n",
    "    return model\n"
   ]
  },
  {
   "cell_type": "code",
   "execution_count": null,
   "metadata": {},
   "outputs": [],
   "source": [
    "baseline_model = read_yeast_model()\n",
    "apply_kennedy_medium(baseline_model)\n",
    "\n",
    "succinate_exchange = baseline_model.reactions.get_by_id(SUCCINATE_EXCHANGE_ID)\n",
    "baseline_model.objective = succinate_exchange\n",
    "baseline_solution = baseline_model.optimize()\n",
    "\n",
    "print(f'Baseline succinate flux: {baseline_solution.objective_value:.4f} mmol gDW^-1 h^-1')\n",
    "print(f'Associated biomass flux: {baseline_solution.fluxes.get(BIOMASS_REACTION_ID, float(\"nan\")):.4f}')\n",
    "print(f'Optimization status: {baseline_solution.status}')\n"
   ]
  },
  {
   "cell_type": "markdown",
   "metadata": {},
   "source": [
    "## 4. Explore environmental scenarios\n",
    "\n",
    "We now parameterize a helper that reapplies the base medium, tweaks a set of\n",
    "environmental constraints (glucose feed, oxygen availability, proton uptake as a\n",
    "proxy for extracellular pH), and maximizes succinate secretion. The results are\n",
    "tabulated for easy comparison.\n"
   ]
  },
  {
   "cell_type": "code",
   "execution_count": null,
   "metadata": {},
   "outputs": [],
   "source": [
    "def evaluate_environment(\n",
    "    model: cobra.Model,\n",
    "    glucose_limit: float,\n",
    "    oxygen_limit: float,\n",
    "    proton_limit: float,\n",
    "    ammonium_limit: float = -10.0,\n",
    "    temperature_tag: str = '30C',\n",
    ") -> Dict[str, float]:\n",
    "    \"\"\"Solve an FBA problem that maximizes succinate secretion.\"\"\"\n",
    "    with model:\n",
    "        apply_kennedy_medium(model, glucose_limit=glucose_limit)\n",
    "        model.reactions.get_by_id('r_1992').lower_bound = oxygen_limit\n",
    "        model.reactions.get_by_id('r_1832').lower_bound = proton_limit\n",
    "        model.reactions.get_by_id('r_1672').lower_bound = ammonium_limit\n",
    "\n",
    "        # Optionally adjust non-growth-associated maintenance to mimic temperature shifts\n",
    "        if temperature_tag == '37C':\n",
    "            model.reactions.get_by_id('r_4041').lower_bound = 10.0\n",
    "        elif temperature_tag == '20C':\n",
    "            model.reactions.get_by_id('r_4041').lower_bound = 6.0\n",
    "\n",
    "        model.objective = model.reactions.get_by_id(SUCCINATE_EXCHANGE_ID)\n",
    "        solution = model.optimize()\n",
    "\n",
    "        biomass_flux = solution.fluxes.get(BIOMASS_REACTION_ID, float('nan'))\n",
    "        return {\n",
    "            'status': solution.status,\n",
    "            'succinate_flux': solution.objective_value,\n",
    "            'biomass_flux': biomass_flux,\n",
    "            'glucose_limit': glucose_limit,\n",
    "            'oxygen_limit': oxygen_limit,\n",
    "            'proton_limit': proton_limit,\n",
    "            'ammonium_limit': ammonium_limit,\n",
    "            'temperature_tag': temperature_tag,\n",
    "        }\n"
   ]
  },
  {
   "cell_type": "code",
   "execution_count": null,
   "metadata": {},
   "outputs": [],
   "source": [
    "analysis_model = read_yeast_model()\n",
    "apply_kennedy_medium(analysis_model)\n",
    "\n",
    "glucose_grid = (-10.0, -15.0, -20.0)\n",
    "oxygen_grid = (0.0, -5.0, -10.0)\n",
    "proton_grid = (-1.0, -5.0, -10.0)\n",
    "temperature_grid = ('20C', '30C', '37C')\n",
    "\n",
    "records = []\n",
    "for glucose_limit, oxygen_limit, proton_limit, temperature_tag in itertools.product(\n",
    "    glucose_grid, oxygen_grid, proton_grid, temperature_grid\n",
    "):\n",
    "    record = evaluate_environment(\n",
    "        analysis_model,\n",
    "        glucose_limit=glucose_limit,\n",
    "        oxygen_limit=oxygen_limit,\n",
    "        proton_limit=proton_limit,\n",
    "        ammonium_limit=-10.0,\n",
    "        temperature_tag=temperature_tag,\n",
    "    )\n",
    "    records.append(record)\n",
    "\n",
    "results = pd.DataFrame(records)\n",
    "results.sort_values('succinate_flux', ascending=False).head(10)\n"
   ]
  },
  {
   "cell_type": "markdown",
   "metadata": {},
   "source": [
    "## 5. Inspect individual designs\n",
    "\n",
    "Filter the table to retain feasible solutions (`status == 'optimal'`) and examine\n",
    "the trade-off between succinate secretion and biomass growth to prioritize\n",
    "conditions that remain physiologically realistic.\n"
   ]
  },
  {
   "cell_type": "code",
   "execution_count": null,
   "metadata": {},
   "outputs": [],
   "source": [
    "optimal_results = results[results['status'] == 'optimal'].copy()\n",
    "optimal_results = optimal_results.sort_values(['succinate_flux', 'biomass_flux'], ascending=[False, False])\n",
    "optimal_results.head(10)\n"
   ]
  },
  {
   "cell_type": "markdown",
   "metadata": {},
   "source": [
    "## 6. Extract flux distributions for promising scenarios\n",
    "\n",
    "Use parsimonious FBA (pFBA) to compute flux distributions for specific scenarios.\n",
    "This helps identify key pathways responsible for succinate overproduction under\n",
    "the selected environmental settings.\n"
   ]
  },
  {
   "cell_type": "code",
   "execution_count": null,
   "metadata": {},
   "outputs": [],
   "source": [
    "def sample_flux_distribution(row: pd.Series, model: cobra.Model) -> pd.Series:\n",
    "    with model:\n",
    "        apply_kennedy_medium(model, glucose_limit=row['glucose_limit'])\n",
    "        model.reactions.get_by_id('r_1992').lower_bound = row['oxygen_limit']\n",
    "        model.reactions.get_by_id('r_1832').lower_bound = row['proton_limit']\n",
    "        model.reactions.get_by_id('r_1672').lower_bound = row['ammonium_limit']\n",
    "        if row['temperature_tag'] == '37C':\n",
    "            model.reactions.get_by_id('r_4041').lower_bound = 10.0\n",
    "        elif row['temperature_tag'] == '20C':\n",
    "            model.reactions.get_by_id('r_4041').lower_bound = 6.0\n",
    "        model.objective = model.reactions.get_by_id(SUCCINATE_EXCHANGE_ID)\n",
    "        pfba_solution = pfba(model)\n",
    "    return pfba_solution.fluxes\n",
    "\n",
    "top_design = optimal_results.iloc[0]\n",
    "top_fluxes = sample_flux_distribution(top_design, analysis_model)\n",
    "top_fluxes[top_fluxes.abs() > 1e-3].sort_values(ascending=False).head(20)\n"
   ]
  },
  {
   "cell_type": "markdown",
   "metadata": {},
   "source": [
    "## 7. Next steps\n",
    "\n",
    "* Constrain succinate secretion to a fixed minimum and re-maximize biomass to\n",
    "  benchmark trade-offs between growth and production.\n",
    "* Introduce additional feeds (e.g., glycerol or acetate) by adjusting the\n",
    "  corresponding exchange lower bounds before solving the optimization.\n",
    "* Export the most promising flux distributions and perform pathway enrichment or\n",
    "  shadow price analysis to understand metabolic bottlenecks.\n"
   ]
  }
 ],
 "metadata": {
  "kernelspec": {
   "display_name": "Python 3",
   "language": "python",
   "name": "python3"
  },
  "language_info": {
   "codemirror_mode": {
    "name": "ipython",
    "version": 3
   },
   "file_extension": ".py",
   "mimetype": "text/x-python",
   "name": "python",
   "nbconvert_exporter": "python",
   "pygments_lexer": "ipython3",
   "version": "3.10"
  }
 },
 "nbformat": 4,
 "nbformat_minor": 5
}
