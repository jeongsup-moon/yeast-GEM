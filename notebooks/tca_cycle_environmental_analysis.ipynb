{
 "cells": [
  {
   "cell_type": "markdown",
   "id": "990c8a68",
   "metadata": {},
   "source": [
    "# Yeast9 TCA Cycle Hands-On Analysis\n",
    "\n",
    "This notebook explores how the tricarboxylic acid (TCA) cycle in *Saccharomyces cerevisiae* responds to changing environmental conditions using the Yeast9 genome-scale metabolic model and COBRApy. It builds on the succinate-focused workflow by tracking key TCA reactions, biomass production, exchange fluxes, redox cofactor balance, and shadow prices across oxygen, pH, and temperature scenarios.\n"
   ]
  },
  {
   "cell_type": "markdown",
   "id": "7e2a0222",
   "metadata": {},
   "source": [
    "## 0. Prerequisites\n",
    "\n",
    "Make sure your Python environment includes the core modeling stack:\n",
    "\n",
    "```bash\n",
    "pip install cobra python-dotenv pandas seaborn matplotlib networkx\n",
    "```\n",
    "\n",
    "The repository expects a `.env` file in the project root (it can be empty). It is used by the helper in `code/io.py` to locate `model/yeast-GEM.xml`.\n"
   ]
  },
  {
   "cell_type": "code",
   "execution_count": null,
   "id": "17b8cc19",
   "metadata": {},
   "outputs": [],
   "source": [
    "# Optional: install dependencies inside this environment\n",
    "# %pip install cobra python-dotenv pandas seaborn matplotlib networkx\n"
   ]
  },
  {
   "cell_type": "markdown",
   "id": "b899471d",
   "metadata": {},
   "source": [
    "## 1. Imports and plotting defaults\n"
   ]
  },
  {
   "cell_type": "code",
   "execution_count": null,
   "id": "02dc17a3",
   "metadata": {},
   "outputs": [],
   "source": [
    "import itertools\n",
    "import math\n",
    "import warnings\n",
    "from typing import Dict, Tuple\n",
    "\n",
    "import numpy as np\n",
    "import pandas as pd\n",
    "import matplotlib.pyplot as plt\n",
    "import seaborn as sns\n",
    "import networkx as nx\n",
    "\n",
    "from cobra import Model\n",
    "from cobra.flux_analysis import pfba\n",
    "from code.io import read_yeast_model\n",
    "\n",
    "sns.set_theme(style=\"whitegrid\")\n",
    "warnings.filterwarnings(\n",
    "    \"ignore\",\n",
    "    message=\"Solver status is 'infeasible'.\",\n",
    "    category=UserWarning,\n",
    "    module=\"cobra.util.solver\",\n",
    ")\n",
    "plt.rcParams[\"figure.dpi\"] = 120\n"
   ]
  },
  {
   "cell_type": "markdown",
   "id": "779a093b",
   "metadata": {},
   "source": [
    "## 2. Load the Yeast9 model\n"
   ]
  },
  {
   "cell_type": "code",
   "execution_count": null,
   "id": "6980c762",
   "metadata": {},
   "outputs": [],
   "source": [
    "analysis_model: Model = read_yeast_model()\n",
    "print(f\"Loaded model with {len(analysis_model.reactions)} reactions and {len(analysis_model.metabolites)} metabolites.\")\n"
   ]
  },
  {
   "cell_type": "markdown",
   "id": "86e9b821",
   "metadata": {},
   "source": [
    "## 3. Configure media and environmental controls\n",
    "\n",
    "We start from the Kennedy synthetic complete medium used throughout the succinate notebook and then expose helper functions to alter oxygen availability, extracellular proton exchange (as a proxy for pH), and temperature-dependent maintenance.\n"
   ]
  },
  {
   "cell_type": "code",
   "execution_count": null,
   "id": "f2f45476",
   "metadata": {},
   "outputs": [],
   "source": [
    "CONSTRAINED_UPTAKE = (\n",
    "    \"r_1604\", \"r_1639\", \"r_1873\", \"r_1879\", \"r_1880\", \"r_1881\", \"r_1671\",\n",
    "    \"r_1883\", \"r_1757\", \"r_1891\", \"r_1889\", \"r_1810\", \"r_1993\", \"r_1893\",\n",
    "    \"r_1897\", \"r_1947\", \"r_1899\", \"r_1900\", \"r_1902\", \"r_1967\", \"r_1903\",\n",
    "    \"r_1548\", \"r_1904\", \"r_2028\", \"r_2038\", \"r_1906\", \"r_2067\", \"r_1911\",\n",
    "    \"r_1912\", \"r_1913\", \"r_2090\", \"r_1914\", \"r_2106\",\n",
    ")\n",
    "UNCONSTRAINED_UPTAKE = (\n",
    "    \"r_1672\", \"r_1654\", \"r_1992\", \"r_2005\", \"r_2060\", \"r_1861\", \"r_1832\",\n",
    "    \"r_2100\", \"r_4593\", \"r_4595\", \"r_4596\", \"r_4597\", \"r_2049\", \"r_4594\",\n",
    "    \"r_4600\", \"r_2020\",\n",
    ")\n",
    "GLUCOSE_EXCHANGE_ID = \"r_1714\"\n",
    "OXYGEN_EXCHANGE_ID = \"r_1992\"\n",
    "PROTON_EXCHANGE_ID = \"r_1832\"\n",
    "AMMONIUM_EXCHANGE_ID = \"r_1672\"\n",
    "BIOMASS_REACTION_ID = \"r_4041\"\n",
    "NGAM_REACTION_ID = \"r_4046\"\n",
    "SUCCINATE_EXCHANGE_ID = \"r_2056\"\n",
    "ETHANOL_EXCHANGE_ID = \"r_1761\"\n",
    "GLYCEROL_EXCHANGE_ID = \"r_1808\"\n",
    "\n",
    "TCA_REACTIONS: Dict[str, Tuple[str, str]] = {\n",
    "    \"citrate_synthase\": (\"r_0300\", \"Citrate synthase\"),\n",
    "    \"aconitase\": (\"r_0280\", \"Aconitase\"),\n",
    "    \"isocitrate_dehydrogenase_NAD\": (\"r_0658\", \"Isocitrate dehydrogenase (NAD+)\"),\n",
    "    \"akg_dehydrogenase_E1\": (\"r_0832\", \"α-ketoglutarate dehydrogenase (E1 component)\"),\n",
    "    \"akg_dehydrogenase_E2\": (\"r_0831\", \"α-ketoglutarate dehydrogenase (E2 component)\"),\n",
    "    \"succinyl_CoA_synthetase\": (\"r_1022\", \"Succinyl-CoA synthetase\"),\n",
    "    \"succinate_dehydrogenase\": (\"r_1021\", \"Succinate dehydrogenase\"),\n",
    "    \"fumarase\": (\"r_0451\", \"Fumarase\"),\n",
    "    \"malate_dehydrogenase\": (\"r_0713\", \"Malate dehydrogenase\"),\n",
    "}\n",
    "\n",
    "EXCHANGE_REACTIONS = {\n",
    "    \"glucose\": GLUCOSE_EXCHANGE_ID,\n",
    "    \"oxygen\": OXYGEN_EXCHANGE_ID,\n",
    "    \"ethanol\": ETHANOL_EXCHANGE_ID,\n",
    "    \"glycerol\": GLYCEROL_EXCHANGE_ID,\n",
    "    \"succinate\": SUCCINATE_EXCHANGE_ID,\n",
    "}\n",
    "\n",
    "TEMPERATURE_NGAM = {\n",
    "    \"20C\": 0.6,\n",
    "    \"30C\": 0.7,\n",
    "    \"37C\": 0.8,\n",
    "}\n",
    "\n",
    "NADH_MITO_ID = \"s_1205\"\n",
    "FADH2_MITO_ID = \"s_0690\"\n",
    "\n",
    "DEFAULT_AMMONIUM_LIMIT = -10.0\n",
    "DEFAULT_GLUCOSE_LIMIT = -20.0\n",
    "\n",
    "\n",
    "def apply_kennedy_medium(model: Model, glucose_limit: float = DEFAULT_GLUCOSE_LIMIT) -> None:\n",
    "    for rxn in model.exchanges:\n",
    "        rxn.lower_bound = 0.0\n",
    "        rxn.upper_bound = 1000.0\n",
    "    for rxn_id in CONSTRAINED_UPTAKE:\n",
    "        model.reactions.get_by_id(rxn_id).lower_bound = -0.5\n",
    "    model.reactions.get_by_id(GLUCOSE_EXCHANGE_ID).lower_bound = glucose_limit\n",
    "    for rxn_id in UNCONSTRAINED_UPTAKE:\n",
    "        model.reactions.get_by_id(rxn_id).lower_bound = -1000.0\n",
    "\n",
    "\n",
    "def configure_environment(\n",
    "    model: Model,\n",
    "    oxygen_limit: float,\n",
    "    proton_limit: float,\n",
    "    ammonium_limit: float,\n",
    "    temperature_tag: str,\n",
    ") -> None:\n",
    "    model.reactions.get_by_id(OXYGEN_EXCHANGE_ID).lower_bound = oxygen_limit\n",
    "    model.reactions.get_by_id(PROTON_EXCHANGE_ID).lower_bound = proton_limit\n",
    "    model.reactions.get_by_id(AMMONIUM_EXCHANGE_ID).lower_bound = ammonium_limit\n",
    "    ngam_limit = TEMPERATURE_NGAM.get(temperature_tag)\n",
    "    if ngam_limit is None:\n",
    "        raise ValueError(f\"Unknown temperature tag: {temperature_tag}\")\n",
    "    ngam_reaction = model.reactions.get_by_id(NGAM_REACTION_ID)\n",
    "    ngam_reaction.lower_bound = ngam_limit\n",
    "    ngam_reaction.upper_bound = ngam_limit\n"
   ]
  },
  {
   "cell_type": "markdown",
   "id": "d4c8cb72",
   "metadata": {},
   "source": [
    "### Helper functions for TCA metrics, redox balance, and shadow prices\n"
   ]
  },
  {
   "cell_type": "code",
   "execution_count": null,
   "id": "6b41ce87",
   "metadata": {},
   "outputs": [],
   "source": [
    "def compute_tca_redox_balance(model: Model, fluxes: pd.Series) -> Dict[str, float]:\n",
    "    totals = {\"net_NADH_m\": 0.0, \"net_FADH2_m\": 0.0}\n",
    "    nad_met = model.metabolites.get_by_id(NADH_MITO_ID)\n",
    "    fad_met = model.metabolites.get_by_id(FADH2_MITO_ID)\n",
    "    for rxn_key, (rxn_id, _) in TCA_REACTIONS.items():\n",
    "        if rxn_id not in fluxes.index:\n",
    "            continue\n",
    "        rxn = model.reactions.get_by_id(rxn_id)\n",
    "        flux = float(fluxes[rxn_id])\n",
    "        if math.isclose(flux, 0.0, abs_tol=1e-9):\n",
    "            continue\n",
    "        if nad_met in rxn.metabolites:\n",
    "            totals[\"net_NADH_m\"] += flux * rxn.metabolites[nad_met]\n",
    "        if fad_met in rxn.metabolites:\n",
    "            totals[\"net_FADH2_m\"] += flux * rxn.metabolites[fad_met]\n",
    "    return totals\n",
    "\n",
    "\n",
    "def summarize_shadow_prices(solution, model: Model, top_n: int = 10) -> pd.DataFrame:\n",
    "    shadow = solution.shadow_prices\n",
    "    table = pd.DataFrame({\"met_id\": shadow.index, \"shadow_price\": shadow.values})\n",
    "    table[\"abs_shadow\"] = table[\"shadow_price\"].abs()\n",
    "    table = table.sort_values(\"abs_shadow\", ascending=False).head(top_n).copy()\n",
    "    table[\"name\"] = table[\"met_id\"].map(lambda mid: model.metabolites.get_by_id(mid).name)\n",
    "    table[\"compartment\"] = table[\"met_id\"].map(lambda mid: model.metabolites.get_by_id(mid).compartment)\n",
    "    return table[[\"met_id\", \"name\", \"compartment\", \"shadow_price\", \"abs_shadow\"]]\n",
    "\n",
    "\n",
    "def evaluate_environment(\n",
    "    model: Model,\n",
    "    glucose_limit: float,\n",
    "    oxygen_limit: float,\n",
    "    proton_limit: float,\n",
    "    ammonium_limit: float,\n",
    "    temperature_tag: str,\n",
    "):\n",
    "    with model:\n",
    "        apply_kennedy_medium(model, glucose_limit=glucose_limit)\n",
    "        configure_environment(\n",
    "            model,\n",
    "            oxygen_limit=oxygen_limit,\n",
    "            proton_limit=proton_limit,\n",
    "            ammonium_limit=ammonium_limit,\n",
    "            temperature_tag=temperature_tag,\n",
    "        )\n",
    "        model.objective = model.reactions.get_by_id(BIOMASS_REACTION_ID)\n",
    "        solution = model.optimize()\n",
    "        record = {\n",
    "            \"status\": solution.status,\n",
    "            \"glucose_limit\": glucose_limit,\n",
    "            \"oxygen_limit\": oxygen_limit,\n",
    "            \"proton_limit\": proton_limit,\n",
    "            \"ammonium_limit\": ammonium_limit,\n",
    "            \"temperature_tag\": temperature_tag,\n",
    "            \"biomass_flux\": float(\"nan\"),\n",
    "        }\n",
    "        for label in TCA_REACTIONS:\n",
    "            record[f\"flux_{label}\"] = float(\"nan\")\n",
    "        for label in EXCHANGE_REACTIONS:\n",
    "            record[f\"exchange_{label}\"] = float(\"nan\")\n",
    "        record[\"net_NADH_m\"] = float(\"nan\")\n",
    "        record[\"net_FADH2_m\"] = float(\"nan\")\n",
    "        if solution.status == \"optimal\":\n",
    "            fluxes = solution.fluxes\n",
    "            record[\"biomass_flux\"] = float(solution.objective_value)\n",
    "            for label, (rxn_id, _) in TCA_REACTIONS.items():\n",
    "                record[f\"flux_{label}\"] = float(fluxes.get(rxn_id, np.nan))\n",
    "            for label, rxn_id in EXCHANGE_REACTIONS.items():\n",
    "                record[f\"exchange_{label}\"] = float(fluxes.get(rxn_id, np.nan))\n",
    "            redox_totals = compute_tca_redox_balance(model, fluxes)\n",
    "            record.update(redox_totals)\n",
    "        return record, solution\n"
   ]
  },
  {
   "cell_type": "markdown",
   "id": "d1dd37cc",
   "metadata": {},
   "source": [
    "## 4. Sweep environmental conditions\n",
    "\n",
    "The following grid explores aerobic to anaerobic oxygen limits, proton uptake limits that mimic pH stress, two glucose feed rates, and three temperature settings. Feel free to tailor the parameter ranges before re-running the cell.\n"
   ]
  },
  {
   "cell_type": "code",
   "execution_count": null,
   "id": "6fea64c4",
   "metadata": {},
   "outputs": [],
   "source": [
    "oxygen_grid = (-15.0, -5.0, 0.0)\n",
    "proton_grid = (-10.0, -5.0, -1.0)\n",
    "glucose_grid = (-10.0, -20.0)\n",
    "temperature_grid = (\"20C\", \"30C\", \"37C\")\n",
    "\n",
    "records = []\n",
    "solution_cache = {}\n",
    "scenario_id = 0\n",
    "for glucose_limit, oxygen_limit, proton_limit, temperature_tag in itertools.product(\n",
    "    glucose_grid, oxygen_grid, proton_grid, temperature_grid\n",
    "):\n",
    "    record, solution = evaluate_environment(\n",
    "        analysis_model,\n",
    "        glucose_limit=glucose_limit,\n",
    "        oxygen_limit=oxygen_limit,\n",
    "        proton_limit=proton_limit,\n",
    "        ammonium_limit=DEFAULT_AMMONIUM_LIMIT,\n",
    "        temperature_tag=temperature_tag,\n",
    "    )\n",
    "    record[\"scenario_id\"] = scenario_id\n",
    "    records.append(record)\n",
    "    solution_cache[scenario_id] = solution\n",
    "    scenario_id += 1\n",
    "\n",
    "environment_results = pd.DataFrame(records)\n",
    "print(f\"Simulated {len(environment_results)} environmental scenarios.\")\n",
    "environment_results.head()\n"
   ]
  },
  {
   "cell_type": "markdown",
   "id": "f69f5d06",
   "metadata": {},
   "source": [
    "### Inspect feasible solutions\n",
    "\n",
    "Filter to scenarios where the LP solved successfully and rank them by biomass production.\n"
   ]
  },
  {
   "cell_type": "code",
   "execution_count": null,
   "id": "603a36c1",
   "metadata": {},
   "outputs": [],
   "source": [
    "optimal_results = (\n",
    "    environment_results.query(\"status == 'optimal'\")\n",
    "    .sort_values([\"biomass_flux\", \"exchange_succinate\"], ascending=[False, False])\n",
    "    .reset_index(drop=True)\n",
    ")\n",
    "optimal_results.head()\n"
   ]
  },
  {
   "cell_type": "markdown",
   "id": "943cd55d",
   "metadata": {},
   "source": [
    "## 5. Visualise TCA reaction behaviour\n",
    "\n",
    "Each helper below focuses on one reaction at a time. The first produces an oxygen vs. proton heatmap for a given temperature, while the second highlights the biomass trade-off.\n"
   ]
  },
  {
   "cell_type": "code",
   "execution_count": null,
   "id": "19f05426",
   "metadata": {},
   "outputs": [],
   "source": [
    "def plot_tca_heatmap(results: pd.DataFrame, reaction_label: str, temperature_tag: str) -> None:\n",
    "    column = f\"flux_{reaction_label}\"\n",
    "    subset = results.query(\"status == 'optimal' and temperature_tag == @temperature_tag\")\n",
    "    if subset.empty:\n",
    "        raise ValueError(f\"No feasible points for temperature {temperature_tag}\")\n",
    "    pivot = subset.pivot_table(\n",
    "        index=\"oxygen_limit\",\n",
    "        columns=\"proton_limit\",\n",
    "        values=column,\n",
    "        aggfunc=\"mean\",\n",
    "    )\n",
    "    fig, ax = plt.subplots(figsize=(5, 4))\n",
    "    sns.heatmap(pivot, annot=True, fmt=\".2f\", cmap=\"mako\", ax=ax)\n",
    "    ax.set_title(f\"{TCA_REACTIONS[reaction_label][1]} flux at {temperature_tag}\")\n",
    "    ax.set_xlabel(\"Proton lower bound (mmol/gDW/h)\")\n",
    "    ax.set_ylabel(\"Oxygen lower bound (mmol/gDW/h)\")\n",
    "    plt.show()\n",
    "\n",
    "\n",
    "def plot_flux_tradeoff(results: pd.DataFrame, reaction_label: str) -> None:\n",
    "    column = f\"flux_{reaction_label}\"\n",
    "    subset = results.query(\"status == 'optimal'\")\n",
    "    fig, ax = plt.subplots(figsize=(5, 4))\n",
    "    sns.scatterplot(\n",
    "        data=subset,\n",
    "        x=\"biomass_flux\",\n",
    "        y=column,\n",
    "        hue=\"temperature_tag\",\n",
    "        style=\"glucose_limit\",\n",
    "        palette=\"viridis\",\n",
    "        ax=ax,\n",
    "    )\n",
    "    ax.set_title(f\"Growth vs. {TCA_REACTIONS[reaction_label][1]} flux\")\n",
    "    ax.set_xlabel(\"Biomass flux (1/h)\")\n",
    "    ax.set_ylabel(\"Flux (mmol/gDW/h)\")\n",
    "    plt.show()\n"
   ]
  },
  {
   "cell_type": "markdown",
   "id": "4af8843f",
   "metadata": {},
   "source": [
    "#### Example: citrate synthase flux landscapes\n"
   ]
  },
  {
   "cell_type": "code",
   "execution_count": null,
   "id": "b83aa087",
   "metadata": {},
   "outputs": [],
   "source": [
    "plot_tca_heatmap(optimal_results, \"citrate_synthase\", \"30C\")\n",
    "plot_flux_tradeoff(optimal_results, \"citrate_synthase\")\n"
   ]
  },
  {
   "cell_type": "markdown",
   "id": "582ca2ff",
   "metadata": {},
   "source": [
    "## 6. Redox balance and exchange readouts\n",
    "\n",
    "Summaries of NADH/FADH₂ generation within the TCA cycle and the key exchange fluxes provide context on respiratory activity.\n"
   ]
  },
  {
   "cell_type": "code",
   "execution_count": null,
   "id": "363d94a1",
   "metadata": {},
   "outputs": [],
   "source": [
    "columns_to_show = [\n",
    "    \"scenario_id\",\n",
    "    \"temperature_tag\",\n",
    "    \"glucose_limit\",\n",
    "    \"oxygen_limit\",\n",
    "    \"proton_limit\",\n",
    "    \"biomass_flux\",\n",
    "    \"exchange_oxygen\",\n",
    "    \"exchange_ethanol\",\n",
    "    \"exchange_glycerol\",\n",
    "    \"exchange_succinate\",\n",
    "    \"net_NADH_m\",\n",
    "    \"net_FADH2_m\",\n",
    "]\n",
    "optimal_results[columns_to_show].head()\n"
   ]
  },
  {
   "cell_type": "markdown",
   "id": "0f3f4e5b",
   "metadata": {},
   "source": [
    "## 7. Drill into a scenario\n",
    "\n",
    "Pick the best-performing scenario (or another row from `optimal_results`) to inspect its full flux distribution, identify limiting metabolites via shadow prices, and visualise the TCA cycle neighbourhood.\n"
   ]
  },
  {
   "cell_type": "code",
   "execution_count": null,
   "id": "ff53dfc2",
   "metadata": {},
   "outputs": [],
   "source": [
    "if optimal_results.empty:\n",
    "    raise RuntimeError(\"No feasible scenarios available for inspection.\")\n",
    "\n",
    "selected_row = optimal_results.iloc[0]\n",
    "selected_solution = solution_cache[selected_row[\"scenario_id\"]]\n",
    "selected_fluxes = selected_solution.fluxes\n",
    "selected_pfba = pfba(analysis_model)\n",
    "print(\"Selected scenario:\n",
    "\", selected_row)\n"
   ]
  },
  {
   "cell_type": "markdown",
   "id": "7f2f72ec",
   "metadata": {},
   "source": [
    "### Shadow prices of limiting metabolites\n"
   ]
  },
  {
   "cell_type": "code",
   "execution_count": null,
   "id": "3bc790a3",
   "metadata": {},
   "outputs": [],
   "source": [
    "shadow_summary = summarize_shadow_prices(selected_solution, analysis_model, top_n=12)\n",
    "shadow_summary\n"
   ]
  },
  {
   "cell_type": "markdown",
   "id": "80c0461d",
   "metadata": {},
   "source": [
    "### Visualising the TCA cycle neighbourhood\n",
    "\n",
    "The NetworkX helper draws a reaction-centric graph of the mitochondrial TCA steps. Node colours encode flux magnitude from the selected scenario.\n"
   ]
  },
  {
   "cell_type": "code",
   "execution_count": null,
   "id": "489be01c",
   "metadata": {},
   "outputs": [],
   "source": [
    "def plot_tca_cycle_network(model: Model, fluxes: pd.Series, max_reactions: int = None) -> None:\n",
    "    reaction_items = list(TCA_REACTIONS.items())\n",
    "    if max_reactions is not None:\n",
    "        reaction_items = reaction_items[:max_reactions]\n",
    "    graph = nx.DiGraph()\n",
    "    for key, (rxn_id, label) in reaction_items:\n",
    "        rxn = model.reactions.get_by_id(rxn_id)\n",
    "        flux_value = float(fluxes.get(rxn_id, 0.0))\n",
    "        graph.add_node(rxn_id, kind=\"reaction\", label=label, flux=flux_value)\n",
    "        for met, coeff in rxn.metabolites.items():\n",
    "            graph.add_node(met.id, kind=\"metabolite\", label=f\"{met.name} [{met.compartment}]\")\n",
    "            if coeff < 0:\n",
    "                graph.add_edge(met.id, rxn_id, weight=abs(coeff))\n",
    "            else:\n",
    "                graph.add_edge(rxn_id, met.id, weight=abs(coeff))\n",
    "    pos = nx.spring_layout(graph, seed=42)\n",
    "    reaction_nodes = [n for n, d in graph.nodes(data=True) if d.get(\"kind\") == \"reaction\"]\n",
    "    metabolite_nodes = [n for n, d in graph.nodes(data=True) if d.get(\"kind\") == \"metabolite\"]\n",
    "    flux_values = [abs(graph.nodes[n].get(\"flux\", 0.0)) for n in reaction_nodes]\n",
    "    max_flux = max(flux_values) if flux_values else 0.0\n",
    "    if max_flux == 0:\n",
    "        colors = [plt.cm.viridis(0.0) for _ in reaction_nodes]\n",
    "    else:\n",
    "        colors = [plt.cm.viridis(val / max_flux) for val in flux_values]\n",
    "    fig, ax = plt.subplots(figsize=(6, 4))\n",
    "    nx.draw_networkx_nodes(graph, pos, nodelist=reaction_nodes, node_shape=\"s\", node_color=colors, node_size=400, ax=ax)\n",
    "    nx.draw_networkx_nodes(graph, pos, nodelist=metabolite_nodes, node_shape=\"o\", node_color=\"#fdd49e\", node_size=350, ax=ax)\n",
    "    nx.draw_networkx_edges(graph, pos, arrowstyle=\"-|>\", arrowsize=12, edge_color=\"#555555\", width=1.2, ax=ax)\n",
    "    labels = {node: data[\"label\"] for node, data in graph.nodes(data=True)}\n",
    "    nx.draw_networkx_labels(graph, pos, labels=labels, font_size=7, ax=ax)\n",
    "    ax.set_title(\"TCA cycle flux map\")\n",
    "    ax.axis(\"off\")\n",
    "    if max_flux > 0:\n",
    "        norm = plt.Normalize(vmin=0, vmax=max_flux)\n",
    "        sm = plt.cm.ScalarMappable(cmap=\"viridis\", norm=norm)\n",
    "        sm.set_array([])\n",
    "        fig.colorbar(sm, ax=ax, fraction=0.04, pad=0.04, label=\"|Flux| (mmol/gDW/h)\")\n",
    "    plt.show()\n",
    "\n",
    "plot_tca_cycle_network(analysis_model, selected_fluxes)\n"
   ]
  },
  {
   "cell_type": "markdown",
   "id": "514cefaf",
   "metadata": {},
   "source": [
    "### Compare FBA and parsimonious FBA (pFBA)\n",
    "\n",
    "For completeness, the pFBA solution provides a flux distribution with minimal total flux while preserving the same objective. This helps confirm whether key TCA fluxes are well-defined across alternative optima.\n"
   ]
  },
  {
   "cell_type": "code",
   "execution_count": null,
   "id": "8110d1af",
   "metadata": {},
   "outputs": [],
   "source": [
    "pfba_fluxes = selected_pfba.fluxes\n",
    "comparison_columns = []\n",
    "for label, (rxn_id, nice_name) in TCA_REACTIONS.items():\n",
    "    comparison_columns.append({\n",
    "        \"reaction_id\": rxn_id,\n",
    "        \"name\": nice_name,\n",
    "        \"fba_flux\": float(selected_fluxes.get(rxn_id, np.nan)),\n",
    "        \"pfba_flux\": float(pfba_fluxes.get(rxn_id, np.nan)),\n",
    "    })\n",
    "pd.DataFrame(comparison_columns)\n"
   ]
  },
  {
   "cell_type": "markdown",
   "id": "92ab4e59",
   "metadata": {},
   "source": [
    "## 8. Next steps\n",
    "\n",
    "- **Adjust the grids** to reflect experimental feed rates or oxygen transfer rates of interest.\n",
    "- **Incorporate omics constraints** by setting upper bounds on reactions associated with lowly expressed genes.\n",
    "- **Investigate additional metabolites** by expanding `EXCHANGE_REACTIONS` or probing shadow prices for amino acids, organic acids, or cofactors.\n",
    "- **Export flux samples** using random sampling (e.g., ACHR) to map variability across feasible optima.\n"
   ]
  }
 ],
 "metadata": {},
 "nbformat": 4,
 "nbformat_minor": 5
}
